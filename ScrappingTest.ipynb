{
 "cells": [
  {
   "cell_type": "markdown",
   "metadata": {},
   "source": [
    "# Playground"
   ]
  },
  {
   "cell_type": "markdown",
   "metadata": {},
   "source": [
    "## Import libraries"
   ]
  },
  {
   "cell_type": "code",
   "execution_count": 1,
   "metadata": {},
   "outputs": [],
   "source": [
    "import getpass\n",
    "import os\n",
    "from langchain.chat_models import init_chat_model\n",
    "from langchain_core.messages import HumanMessage, SystemMessage\n",
    "import requests\n",
    "from dotenv import load_dotenv\n",
    "\n",
    "from agent import clean_html_for_llm, parse_repertoires_from_page, extract_links_from_page, identify_page_and_get_repertoire_links, get_repertoire_links\n",
    "\n",
    "\n",
    "load_dotenv();"
   ]
  },
  {
   "cell_type": "markdown",
   "metadata": {},
   "source": [
    "## Test api connection"
   ]
  },
  {
   "cell_type": "code",
   "execution_count": 2,
   "metadata": {},
   "outputs": [],
   "source": [
    "if not os.environ.get(\"TOGETHER_API_KEY\"):\n",
    "    os.environ[\"TOGETHER_API_KEY\"] = getpass.getpass(\"Enter API key for Together AI: \")\n",
    "\n",
    "# meta-llama/Llama-3.3-70B-Instruct-Turbo-Free   inputs` tokens + `max_new_tokens` must be <= 8193\n",
    "# Qwen/Qwen2.5-Coder-32B-Instruct                inputs` tokens + `max_new_tokens` must be <= 32769\n",
    "# meta-llama/Llama-3.2-3B-Instruct-Turbo         gives extra text\n",
    "model = init_chat_model(\"Qwen/Qwen2.5-Coder-32B-Instruct\", model_provider=\"together\")"
   ]
  },
  {
   "cell_type": "code",
   "execution_count": 36,
   "metadata": {},
   "outputs": [
    {
     "data": {
      "text/plain": [
       "AIMessage(content='Ciao!', additional_kwargs={'refusal': None}, response_metadata={'token_usage': {'completion_tokens': 4, 'prompt_tokens': 22, 'total_tokens': 26, 'completion_tokens_details': None, 'prompt_tokens_details': None}, 'model_name': 'Qwen/Qwen2.5-Coder-32B-Instruct', 'system_fingerprint': None, 'finish_reason': 'stop', 'logprobs': None}, id='run-1dd40201-e1bd-41ad-ba47-08d4275bafdf-0', usage_metadata={'input_tokens': 22, 'output_tokens': 4, 'total_tokens': 26, 'input_token_details': {}, 'output_token_details': {}})"
      ]
     },
     "execution_count": 36,
     "metadata": {},
     "output_type": "execute_result"
    }
   ],
   "source": [
    "messages = [\n",
    "    SystemMessage(\"Translate the following from English into Italian\"),\n",
    "    HumanMessage(\"hi!\")\n",
    "]\n",
    "\n",
    "model.invoke(messages)"
   ]
  },
  {
   "cell_type": "code",
   "execution_count": null,
   "metadata": {},
   "outputs": [
    {
     "name": "stdout",
     "output_type": "stream",
     "text": [
      "Cleaned HTML content saved to 'cleaned_repertoire.html'\n",
      "Original size: 403735 characters\n",
      "Cleaned size: 46764 characters\n",
      "Size reduction: 88.42%\n"
     ]
    }
   ],
   "source": [
    "url = \"https://teatrdramatyczny.pl/whats-on\"\n",
    "cleaned_html = clean_html_for_llm(url)\n",
    "with open(\"temp/cleaned_repertoire.html\", \"w\", encoding=\"utf-8\") as file:\n",
    "    file.write(cleaned_html)\n",
    "print(\"Cleaned HTML content saved to 'cleaned_repertoire.html'\")\n",
    "original_size = len(requests.get(url).text)\n",
    "cleaned_size = len(cleaned_html)\n",
    "reduction = (1 - cleaned_size/original_size) * 100\n",
    "print(f\"Original size: {original_size} characters\")\n",
    "print(f\"Cleaned size: {cleaned_size} characters\")\n",
    "print(f\"Size reduction: {reduction:.2f}%\")"
   ]
  },
  {
   "cell_type": "markdown",
   "metadata": {},
   "source": [
    "## Parse HTML with LLM"
   ]
  },
  {
   "cell_type": "code",
   "execution_count": null,
   "metadata": {},
   "outputs": [
    {
     "name": "stdout",
     "output_type": "stream",
     "text": [
      "⚠️ Detected incomplete JSON... requesting continuation (attempt 1)\n"
     ]
    }
   ],
   "source": [
    "with open(\"temp/cleaned_repertoire.html\", \"r\", encoding=\"utf-8\") as file:\n",
    "    html_content = file.read()\n",
    "\n",
    "full_response = parse_repertoires_from_page(html_content, model)\n",
    "\n",
    "with open(\"temp/llm_response.json\", \"w\") as file:\n",
    "    file.write(full_response)"
   ]
  },
  {
   "cell_type": "markdown",
   "metadata": {},
   "source": [
    "## Searching repertoire page"
   ]
  },
  {
   "cell_type": "code",
   "execution_count": 14,
   "metadata": {},
   "outputs": [],
   "source": [
    "url = \"https://teatrdramatyczny.pl/\"\n",
    "content = clean_html_for_llm(url)\n",
    "links = extract_links_from_page(content, url)\n",
    "is_repertoire_page = identify_page_and_get_repertoire_links(content, links, model)\n",
    "# repertoires = parse_repertoires_from_page(content, model)"
   ]
  },
  {
   "cell_type": "code",
   "execution_count": 3,
   "metadata": {},
   "outputs": [
    {
     "name": "stdout",
     "output_type": "stream",
     "text": [
      "⚠️ Detected incomplete JSON... requesting continuation (attempt 1)\n"
     ]
    }
   ],
   "source": [
    "url = \"https://teatrdramatyczny.pl/\"\n",
    "content = clean_html_for_llm(url)\n",
    "links = extract_links_from_page(content, url)\n",
    "repertoire_links = get_repertoire_links(links, model)\n",
    "\n",
    "if len(repertoire_links) > 0:\n",
    "    url = repertoire_links[0]['url']\n",
    "    content = clean_html_for_llm(url)   \n",
    "    performances = parse_repertoires_from_page(content, model)\n",
    "    with open(\"temp/performances.json\", \"w\") as file:\n",
    "        file.write(performances)"
   ]
  },
  {
   "cell_type": "code",
   "execution_count": null,
   "metadata": {},
   "outputs": [],
   "source": []
  },
  {
   "cell_type": "code",
   "execution_count": 16,
   "metadata": {},
   "outputs": [
    {
     "data": {
      "text/plain": [
       "{'is_repertoire_page': True,\n",
       " 'recommended_links': [{'url': 'https://teatrdramatyczny.pl/whats-on',\n",
       "   'confidence': 0.95}]}"
      ]
     },
     "execution_count": 16,
     "metadata": {},
     "output_type": "execute_result"
    }
   ],
   "source": [
    "url = \"https://teatrdramatyczny.pl/whats-on\"\n",
    "content = clean_html_for_llm(url)\n",
    "links = extract_links_from_page(content, url)\n",
    "is_repertoire_page = identify_page_and_get_repertoire_links(content, links, model)\n",
    "is_repertoire_page"
   ]
  }
 ],
 "metadata": {
  "kernelspec": {
   "display_name": "venv",
   "language": "python",
   "name": "python3"
  },
  "language_info": {
   "codemirror_mode": {
    "name": "ipython",
    "version": 3
   },
   "file_extension": ".py",
   "mimetype": "text/x-python",
   "name": "python",
   "nbconvert_exporter": "python",
   "pygments_lexer": "ipython3",
   "version": "3.12.8"
  }
 },
 "nbformat": 4,
 "nbformat_minor": 2
}
