{
 "cells": [
  {
   "cell_type": "markdown",
   "metadata": {},
   "source": [
    "# Playground"
   ]
  },
  {
   "cell_type": "markdown",
   "metadata": {},
   "source": [
    "## Import libraries"
   ]
  },
  {
   "cell_type": "code",
   "execution_count": 9,
   "metadata": {},
   "outputs": [],
   "source": [
    "import getpass\n",
    "import os\n",
    "from langchain.chat_models import init_chat_model\n",
    "from langchain_core.messages import HumanMessage, SystemMessage, AIMessage\n",
    "import requests\n",
    "from dotenv import load_dotenv\n",
    "from bs4 import BeautifulSoup, Comment\n",
    "import re\n",
    "import json\n",
    "\n",
    "load_dotenv();"
   ]
  },
  {
   "cell_type": "markdown",
   "metadata": {},
   "source": [
    "## Test api connection"
   ]
  },
  {
   "cell_type": "code",
   "execution_count": 2,
   "metadata": {},
   "outputs": [],
   "source": [
    "if not os.environ.get(\"TOGETHER_API_KEY\"):\n",
    "    os.environ[\"TOGETHER_API_KEY\"] = getpass.getpass(\"Enter API key for Together AI: \")\n",
    "\n",
    "# meta-llama/Llama-3.3-70B-Instruct-Turbo-Free   inputs` tokens + `max_new_tokens` must be <= 8193\n",
    "# Qwen/Qwen2.5-Coder-32B-Instruct                inputs` tokens + `max_new_tokens` must be <= 32769\n",
    "# meta-llama/Llama-3.2-3B-Instruct-Turbo         gives extra text\n",
    "model = init_chat_model(\"Qwen/Qwen2.5-Coder-32B-Instruct\", model_provider=\"together\")"
   ]
  },
  {
   "cell_type": "code",
   "execution_count": 5,
   "metadata": {},
   "outputs": [
    {
     "data": {
      "text/plain": [
       "AIMessage(content='Ciao!', additional_kwargs={'refusal': None}, response_metadata={'token_usage': {'completion_tokens': 4, 'prompt_tokens': 22, 'total_tokens': 26, 'completion_tokens_details': None, 'prompt_tokens_details': None}, 'model_name': 'Qwen/Qwen2.5-Coder-32B-Instruct', 'system_fingerprint': None, 'finish_reason': 'stop', 'logprobs': None}, id='run-f1a4f673-40b8-4718-b1fc-49c64cec2cb9-0', usage_metadata={'input_tokens': 22, 'output_tokens': 4, 'total_tokens': 26, 'input_token_details': {}, 'output_token_details': {}})"
      ]
     },
     "execution_count": 5,
     "metadata": {},
     "output_type": "execute_result"
    }
   ],
   "source": [
    "messages = [\n",
    "    SystemMessage(\"Translate the following from English into Italian\"),\n",
    "    HumanMessage(\"hi!\")\n",
    "]\n",
    "\n",
    "model.invoke(messages)"
   ]
  },
  {
   "cell_type": "markdown",
   "metadata": {},
   "source": [
    "## Python HTML request"
   ]
  },
  {
   "cell_type": "code",
   "execution_count": 3,
   "metadata": {},
   "outputs": [
    {
     "name": "stdout",
     "output_type": "stream",
     "text": [
      "Cleaned HTML content saved to 'cleaned_repertoire.html'\n",
      "Original size: 427992 characters\n",
      "Cleaned size: 50105 characters\n",
      "Size reduction: 88.29%\n"
     ]
    }
   ],
   "source": [
    "\n",
    "def clean_html_for_llm(url):\n",
    "    response = requests.get(url)  \n",
    "    if response.status_code != 200:\n",
    "        return f\"Failed to retrieve content: {response.status_code}\"\n",
    "    html_content = response.text\n",
    "    soup = BeautifulSoup(html_content, \"html.parser\")\n",
    "    for comment in soup.find_all(string=lambda text: isinstance(text, Comment)):\n",
    "        comment.extract()\n",
    "    for element in soup.find_all(['script', 'style', 'noscript', 'iframe', 'svg', 'canvas']):\n",
    "        element.extract()\n",
    "    for element in soup.find_all(style=True):\n",
    "        if any(pattern in element.get('style').lower() for pattern in [\"display:none\", \"display: none\", \"visibility:hidden\", \"visibility: hidden\"]):\n",
    "            element.extract()\n",
    "    for element in soup.find_all(class_=True):\n",
    "        classes = element.get('class')\n",
    "        if any(cls in str(classes).lower() for cls in [\"hidden\", \"d-none\", \"hide\", \"invisible\", \"visually-hidden\"]):\n",
    "            element.extract()\n",
    "    if soup.head:\n",
    "        for tag in soup.head.find_all(['meta', 'link']):\n",
    "            tag.extract()\n",
    "    content_str = str(soup.body) if soup.body else str(soup)\n",
    "    content_str = re.sub(r'\\n\\s*\\n', '\\n', content_str)\n",
    "    content_str = re.sub(r'^\\s+|\\s+$', '', content_str, flags=re.MULTILINE)\n",
    "    content_str = re.sub(r' {2,}', ' ', content_str)\n",
    "    content_str = re.sub(r' data-[^=]*=\"[^\"]*\"', '', content_str)\n",
    "    content_str = re.sub(r' class=\"[^\"]*\"', '', content_str)\n",
    "    content_str = re.sub(r' id=\"[^\"]*\"', '', content_str)\n",
    "    content_str = re.sub(r' style=\"[^\"]*\"', '', content_str)\n",
    "    for _ in range(3):\n",
    "        content_str = re.sub(r'<([a-z0-9]+)>\\s*</\\1>', '', content_str, flags=re.IGNORECASE)\n",
    "    return content_str\n",
    "\n",
    "url = \"https://teatrdramatyczny.pl/whats-on\"\n",
    "cleaned_html = clean_html_for_llm(url)\n",
    "with open(\"cleaned_repertoire.html\", \"w\", encoding=\"utf-8\") as file:\n",
    "    file.write(cleaned_html)\n",
    "print(\"Cleaned HTML content saved to 'cleaned_repertoire.html'\")\n",
    "original_size = len(requests.get(url).text)\n",
    "cleaned_size = len(cleaned_html)\n",
    "reduction = (1 - cleaned_size/original_size) * 100\n",
    "print(f\"Original size: {original_size} characters\")\n",
    "print(f\"Cleaned size: {cleaned_size} characters\")\n",
    "print(f\"Size reduction: {reduction:.2f}%\")\n"
   ]
  },
  {
   "cell_type": "markdown",
   "metadata": {},
   "source": [
    "## Parse HTML with LLM"
   ]
  },
  {
   "cell_type": "code",
   "execution_count": 10,
   "metadata": {},
   "outputs": [
    {
     "name": "stdout",
     "output_type": "stream",
     "text": [
      "⚠️ Detected incomplete JSON... requesting continuation (attempt 1)\n"
     ]
    }
   ],
   "source": [
    "with open(\"cleaned_repertoire.html\", \"r\", encoding=\"utf-8\") as file:\n",
    "    html_content = file.read()\n",
    "system_message = \"\"\"\n",
    "I will provide you with an HTML snippet containing information about theater performances. Extract all performances, including their titles, dates, and times, and return the result as a JSON array with the following format:\n",
    "```\n",
    "[\n",
    "  {\n",
    "    \"title\": \"Performance name\",\n",
    "    \"date\": \"YYYY-MM-DD\",\n",
    "    \"time\": \"HH:MM\",\n",
    "    \"status\": \"Performance status\",\n",
    "    \"place\": \"Performance place\",\n",
    "  }\n",
    "]\n",
    "```\n",
    "Do not include any extra text in the response—only return valid JSON.\n",
    "\"\"\"\n",
    "def is_json_complete(text: str) -> bool:\n",
    "    try:\n",
    "        json.loads(text)\n",
    "        return True\n",
    "    except json.JSONDecodeError:\n",
    "        return False\n",
    "\n",
    "messages = [\n",
    "    SystemMessage(system_message),\n",
    "    HumanMessage(html_content)\n",
    "]\n",
    "\n",
    "full_response = \"\"\n",
    "max_loops = 5\n",
    "loop_count = 0\n",
    "\n",
    "while loop_count < max_loops:\n",
    "    response = model.invoke(messages)\n",
    "    full_response += response.content\n",
    "\n",
    "    if is_json_complete(full_response):\n",
    "        break\n",
    "\n",
    "    print(f\"⚠️ Detected incomplete JSON... requesting continuation (attempt {loop_count + 1})\")\n",
    "\n",
    "    messages.append(AIMessage(response.content))\n",
    "    messages.append(HumanMessage(\"Please continue from where you left off. Only continue the JSON.\"))\n",
    "    loop_count += 1\n",
    "\n",
    "with open(\"llm_response.txt\", \"w\") as file:\n",
    "    file.write(full_response)"
   ]
  }
 ],
 "metadata": {
  "kernelspec": {
   "display_name": "venv",
   "language": "python",
   "name": "python3"
  },
  "language_info": {
   "codemirror_mode": {
    "name": "ipython",
    "version": 3
   },
   "file_extension": ".py",
   "mimetype": "text/x-python",
   "name": "python",
   "nbconvert_exporter": "python",
   "pygments_lexer": "ipython3",
   "version": "3.12.8"
  }
 },
 "nbformat": 4,
 "nbformat_minor": 2
}
