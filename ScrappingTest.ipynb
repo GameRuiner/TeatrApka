{
 "cells": [
  {
   "cell_type": "markdown",
   "metadata": {},
   "source": [
    "# Playground"
   ]
  },
  {
   "cell_type": "markdown",
   "metadata": {},
   "source": [
    "## Import libraries"
   ]
  },
  {
   "cell_type": "code",
   "execution_count": 14,
   "metadata": {},
   "outputs": [],
   "source": [
    "import getpass\n",
    "import os\n",
    "from langchain.chat_models import init_chat_model\n",
    "from langchain_core.messages import HumanMessage, SystemMessage\n",
    "from dotenv import load_dotenv\n",
    "from urllib.parse import urlparse\n",
    "from agent import clean_html_for_llm, extract_links_from_page, identify_page_and_get_repertoire_links, get_repertoire_links, extract_pure_json\n",
    "from geminy_agent import parse_repertoires_from_page\n",
    "\n",
    "load_dotenv();"
   ]
  },
  {
   "cell_type": "markdown",
   "metadata": {},
   "source": [
    "## Test api connection"
   ]
  },
  {
   "cell_type": "code",
   "execution_count": 2,
   "metadata": {},
   "outputs": [
    {
     "name": "stderr",
     "output_type": "stream",
     "text": [
      "/var/folders/ml/gp6bsjkn7w77hgytpxvg8gsw0000gn/T/ipykernel_47568/2191350751.py:9: LangChainBetaWarning: The function `init_chat_model` is in beta. It is actively being worked on, so the API may change.\n",
      "  model = init_chat_model(\"Qwen/Qwen2.5-Coder-32B-Instruct\", model_provider=\"together\")\n"
     ]
    }
   ],
   "source": [
    "if not os.environ.get(\"TOGETHER_API_KEY\"):\n",
    "    os.environ[\"TOGETHER_API_KEY\"] = getpass.getpass(\"Enter API key for Together AI: \")\n",
    "\n",
    "# meta-llama/Llama-3.3-70B-Instruct-Turbo-Free   inputs` tokens + `max_new_tokens` must be <= 8193\n",
    "# Qwen/Qwen2.5-Coder-32B-Instruct                inputs` tokens + `max_new_tokens` must be <= 32769\n",
    "# meta-llama/Llama-3.2-3B-Instruct-Turbo         gives extra text\n",
    "# meta-llama/Llama-4-Scout-17B-16E-Instruct\n",
    "# meta-llama/Llama-4-Maverick-17B-128E-Instruct-FP8 give a try\n",
    "model = init_chat_model(\"Qwen/Qwen2.5-Coder-32B-Instruct\", model_provider=\"together\")\n"
   ]
  },
  {
   "cell_type": "code",
   "execution_count": 3,
   "metadata": {},
   "outputs": [],
   "source": [
    "from google import genai\n",
    "\n",
    "client = genai.Client(api_key=os.environ[\"GOOGLE_API_KEY\"])"
   ]
  },
  {
   "cell_type": "code",
   "execution_count": 4,
   "metadata": {},
   "outputs": [
    {
     "name": "stderr",
     "output_type": "stream",
     "text": [
      "/Users/markogolovko/Projects/TeatrApka/venv/lib/python3.12/site-packages/urllib3/connectionpool.py:1097: InsecureRequestWarning: Unverified HTTPS request is being made to host 'nowyteatr.org'. Adding certificate verification is strongly advised. See: https://urllib3.readthedocs.io/en/latest/advanced-usage.html#tls-warnings\n",
      "  warnings.warn(\n"
     ]
    }
   ],
   "source": [
    "url = \"https://nowyteatr.org/pl/program\"\n",
    "content = clean_html_for_llm(url)  "
   ]
  },
  {
   "cell_type": "code",
   "execution_count": 5,
   "metadata": {},
   "outputs": [],
   "source": [
    "system_message = \"\"\"\n",
    "        I will provide you with an HTML snippet containing information about theater performances. Extract all performances, including their titles, dates, and times, and return the result as a JSON array with the following format:\n",
    "        ```\n",
    "        [\n",
    "        {\n",
    "            \"title\": \"Performance name\",\n",
    "            \"date\": \"YYYY-MM-DD\",\n",
    "            \"time\": \"HH:MM\",\n",
    "            \"status\": \"Performance status\",\n",
    "            \"place\": \"Performance place\",\n",
    "        }\n",
    "        ]\n",
    "        ```\n",
    "        Important rules:\n",
    "        - Return ONLY valid JSON (no extra text or markdown).\n",
    "        - If you are reaching the token limit or need to stop, DO NOT cut off in the middle of a JSON object. \n",
    "        Finish the current object fully and stop after a comma (`,`) or after the closing bracket (`]`) if at the end.\n",
    "        - When continuing later, start exactly where you left off, starting with the next JSON object or the closing bracket.\n",
    "\"\"\"\n",
    "messages = F\"\"\"\n",
    "        {system_message}\n",
    "\n",
    "        {content}\n",
    "    \"\"\"\n",
    "response = client.models.generate_content(\n",
    "         model=\"gemini-2.0-flash\", contents=messages\n",
    "    )"
   ]
  },
  {
   "cell_type": "code",
   "execution_count": 9,
   "metadata": {},
   "outputs": [
    {
     "data": {
      "text/plain": [
       "'```json\\n[]\\n```'"
      ]
     },
     "execution_count": 9,
     "metadata": {},
     "output_type": "execute_result"
    }
   ],
   "source": [
    "response.text"
   ]
  },
  {
   "cell_type": "code",
   "execution_count": 15,
   "metadata": {},
   "outputs": [],
   "source": [
    "pure_json = extract_pure_json(response.text)"
   ]
  },
  {
   "cell_type": "code",
   "execution_count": 16,
   "metadata": {},
   "outputs": [
    {
     "data": {
      "text/plain": [
       "'[]'"
      ]
     },
     "execution_count": 16,
     "metadata": {},
     "output_type": "execute_result"
    }
   ],
   "source": [
    "pure_json"
   ]
  },
  {
   "cell_type": "code",
   "execution_count": 16,
   "metadata": {},
   "outputs": [],
   "source": [
    "theatre_url = \"https://nowyteatr.org/pl\"\n",
    "links = extract_links_from_page(content, theatre_url)"
   ]
  },
  {
   "cell_type": "code",
   "execution_count": 19,
   "metadata": {},
   "outputs": [],
   "source": [
    "repertoire_links = get_repertoire_links(links, model)"
   ]
  },
  {
   "cell_type": "code",
   "execution_count": 11,
   "metadata": {},
   "outputs": [],
   "source": [
    "client = genai.Client(api_key=os.environ[\"GOOGLE_API_KEY\"])"
   ]
  },
  {
   "cell_type": "code",
   "execution_count": 12,
   "metadata": {},
   "outputs": [],
   "source": [
    "performances = parse_repertoires_from_page(content, client)"
   ]
  },
  {
   "cell_type": "code",
   "execution_count": 14,
   "metadata": {},
   "outputs": [
    {
     "data": {
      "text/plain": [
       "'<body>\\n<aside>\\n<div>\\n<button>\\n<span>Zamknij</span>\\n\\n</button>\\n<div>\\n<p>\\nNowy Teatr korzysta z plików cookies. Zapoznaj się z naszą <a href=\"/pl/polityka-prywatnosci\">Polityką plików cookies</a> w której informujemy o celu używanych przez nas cookies. Jeśli klikniesz Akceptuj - zgadzasz się na instalację plików cookies w Twoim urządzeniu w celu dostosowania naszych reklam do Twoich potrzeb.\\n</p>\\n</div>\\n<div>\\n<button>Akceptuj<span>Akceptuj cookies</span></button>\\n</div>\\n</div>\\n</aside>\\n<div>\\n<header>\\n<div>\\n<div>\\n<div>\\n<button>\\n\\n<span>Szukaj</span>\\n</button>\\n</div>\\n<div>\\n<nav aria-label=\"Główna\">\\n<div>\\n<div data-gradient-options=\\'{\"image\": \"/public/upload/misc/jpg/5d1373855a1bf___1568930328.jpg\", \"shift\": 80, \"destroy\": false, \"breakpoints\": [\"desktop\"]}\\'></div>\\n</div>\\n\\n<ul>\\n<li><a href=\"/pl/kalendarz\"><span>Kalendarz</span></a></li><li><a href=\"/pl/program\"><span>Program</span></a><ul><li><a href=\"/pl/program/teatr\">Teatr</a></li><li><a href=\"/pl/program/festiwale\">Festiwale</a></li><li><a href=\"/pl/program/muzyka\">Muzyka</a></li><li><a href=\"/pl/program/taniec\">Taniec</a></li><li><a href=\"/pl/program/film\">Film</a></li><li><a href=\"/pl/program/literatura\">Literatura</a></li><li><a href=\"/pl/program/akcje\">Akcje</a></li><li><a href=\"/pl/program/spotkania\">Spotkania</a></li><li><a href=\"/pl/program/edukacja\">Edukacja</a></li></ul></li><li><a href=\"/pl/teatr\"><span>Teatr</span></a><ul><li><a href=\"/pl/teatr/miejsce\">Miejsce</a></li><li><a href=\"/pl/teatr/zespol\">Zespół</a></li><li><a href=\"/pl/teatr/historia\">Historia</a></li><li><a href=\"/pl/teatr/dzialania-spoleczne\">Działania społeczne</a></li><li><a href=\"/pl/teatr/zielony-zespol\">Zielony zespół</a></li><li><a href=\"/pl/teatr/patroni\">Patroni</a></li><li><a href=\"/pl/teatr/raporty-sezonowe\">Raporty sezonowe</a></li></ul></li><li><a href=\"/pl/bilety\"><span>Bilety</span></a></li><li><a href=\"https://vod.nowyteatr.org/\"><span>VOD</span></a></li> </ul>\\n</nav>\\n</div>\\n<div>\\n<a href=\"/pl\" title=\"Nowy Teatr\">\\n\\n\\n</a>\\n<a href=\"/en/program?setlang=true\">English</a>\\n</div>\\n</div>\\n</div>\\n</header>\\n<main tabindex=\"0\">\\n<article>\\n<div>\\n<section>\\n<div>\\n <div>\\n<div>\\n<h2>Program</h2>\\n<a href=\"/pl/kalendarz\">\\n\\n<span>Sprawdź aktualne wydarzenia w <strong>Kalendarzu</strong></span>\\n</a>\\n</div>\\n</div>\\n<div>\\n<div>\\n<p>Międzynarodowe Centrum Kultury Nowy Teatr jest miejską instytucją kultury, której działania artystyczne i\\xa0edukacyjne sytuują się w\\xa0szerokim spektrum niedyscyplinarności. Jesteśmy przekonani, że twórcze impulsy niekoniecznie wpisują\\xa0się w\\xa0tradycyjne podziały, a\\xa0zacieranie granic staje się też dobrym wyzwaniem dla percepcji publiczności. </p>\\n</div>\\n</div>\\n</div>\\n</section>\\n<section>\\n<figure>\\n<picture>\\n<source media=\"(min-width: 1000px)\" srcset=\"/public/upload/modules/medium/5cd444129d3ab___1568359100.jpg, /public/upload/modules/medium_x2/5cd444129d3ab___1568359100.jpg 2x\"/>\\n<source media=\"(max-width: 999px)\" srcset=\"/public/upload/modules/mobile/5cd444129d3ab___1568359100.jpg\"/> <img alt=\"Fotografia przedstawia nowoczesną przestrzeń restauracji lub hallu ze stolikiem i rzędem siedzeń, w przeszklonej części po prawej stronie widać mężczyznę trzymającego omdlewającą kobietę\" src=\"/public/upload/modules/medium/5cd444129d3ab___1568359100.jpg\" srcset=\"/public/upload/modules/medium_x2/5cd444129d3ab___1568359100.jpg 2x\"/>\\n</picture>\\n</figure>\\n</section>\\n<section>\\n<div>\\n\\n<div>\\n<div>\\n<p>Działając w\\xa0ten sposób, prowadzimy miejsce otwarte, w\\xa0którym każdy z\\xa0odwiedzających może znaleźć własną przestrzeń i\\xa0zbudować własny program uczestnictwa. Dbając o\\xa0najwyższą jakość proponowanych działań, zakotwiczamy je silnie w\\xa0kontekście społecznym i\\xa0politycznym, zarówno lokalnym, jak i\\xa0uniwersalnym. Jesteśmy przekonani, że Nowy Teatr może być sposobem na życie twórcze, mądre i\\xa0świadome. Zapraszamy!</p>\\n</div>\\n</div>\\n</div>\\n</section>\\n<ul>\\n<li data-options=\\'{\"hover\": true}\\'>\\n<a href=\"/pl/program/teatr\"><span>Program / Teatr</span></a>\\n<div>\\n\\n<div>\\n<picture>\\n<source srcset=\"data:image/png;base64,aHVuY3dvdA==\"/>\\n<img alt=\"\" src=\"data:image/png;base64,aHVuY3dvdA==\"/>\\n</picture>\\n</div>\\n<div>\\n\\n<h3>\\n<span>\\n<i>Program / Teatr</i>\\n</span>\\n</h3>\\n</div>\\n</div>\\n</li>\\n<li data-options=\\'{\"hover\": true}\\'>\\n<a href=\"/pl/program/taniec\"><span>Program / Taniec</span></a>\\n<div>\\n\\n<div>\\n<picture>\\n<source srcset=\"data:image/png;base64,aHVuY3dvdA==\"/>\\n<img alt=\"\" src=\"data:image/png;base64,aHVuY3dvdA==\"/>\\n</picture>\\n</div>\\n<div>\\n\\n<h3>\\n<span>\\n<i>Program / Taniec</i>\\n</span>\\n</h3>\\n</div>\\n</div>\\n</li>\\n</ul>\\n</div>\\n</article>\\n</main>\\n<footer tabindex=\"0\">\\n<div>\\n<div>\\n<div>\\n<nav aria-label=\"Dolna\">\\n<ul>\\n<li>\\n<a href=\"/pl/aktualnosci\">Aktualności</a>\\n</li>\\n<li>\\n<a href=\"/pl/dla-prasy\">Dla prasy</a>\\n</li>\\n<li>\\n<a href=\"/pl/teatr-bez-barier\">Teatr bez barier</a>\\n</li>\\n<li>\\n<a href=\"/pl/polityka-prywatnosci\">Polityka prywatności</a>\\n</li>\\n<li>\\n<a href=\"/pl/bip\">BIP</a>\\n</li>\\n<li>\\n<a href=\"#\">Newsletter</a>\\n</li>\\n<li>\\n<a href=\"/pl/kontakt\">Kontakt</a>\\n</li>\\n<li><a href=\"https://tlumacz.migam.org/warszawa-nowy-teatr-madalinskiego-10-16\" rel=\"noopener noreferrer\" target=\"_blank\" title=\"Otwórz w nowym oknie\"><span>tłumacz on-line</span></a></li>\\n</ul>\\n</nav>\\n</div>\\n<div>\\n<div>Website by <a href=\"https://huncwot.com\" rel=\"noopener noreferrer\" target=\"_blank\" title=\"Otwórz w nowym oknie\">Huncwot.com</a></div>\\n<ul>\\n<li>\\n<a href=\"https://www.facebook.com/MCKNowyTeatr/\" rel=\"noopener noreferrer\" target=\"_blank\" title=\"Otwórz w nowym oknie\"><span>Podziel się na facebook</span></a>\\n</li>\\n<li>\\n<a href=\"https://www.instagram.com/nowy_teatr/\" rel=\"noopener noreferrer\" target=\"_blank\" title=\"Otwórz w nowym oknie\"><span>Podziel się na instagram</span></a>\\n</li>\\n<li>\\n<a href=\"https://www.youtube.com/user/NowyTeatr\" rel=\"noopener noreferrer\" target=\"_blank\" title=\"Otwórz w nowym oknie\"><span>Podziel się na youtube</span></a>\\n</li>\\n<li>\\n<span>Zmień język</span>\\n<a href=\"/en/program?setlang=true\">English</a>\\n</li>\\n</ul>\\n</div>\\n</div>\\n</div>\\n</footer>\\n</div>\\n<div>\\n<ul>\\n<li>\\n<a href=\"/pl/kalendarz\">\\nKalendarz\\n</a>\\n</li>\\n<li>\\n<a href=\"/pl/program\">\\nProgram\\n</a>\\n<div>\\n<ul>\\n<li>\\n<a href=\"/pl/program/teatr\">Teatr</a>\\n</li>\\n<li>\\n<a href=\"/pl/program/festiwale\">Festiwale</a>\\n</li>\\n<li>\\n<a href=\"/pl/program/muzyka\">Muzyka</a>\\n</li>\\n<li>\\n<a href=\"/pl/program/taniec\">Taniec</a>\\n</li>\\n<li>\\n<a href=\"/pl/program/film\">Film</a>\\n</li>\\n<li>\\n<a href=\"/pl/program/literatura\">Literatura</a>\\n</li>\\n<li>\\n<a href=\"/pl/program/akcje\">Akcje</a>\\n</li>\\n<li>\\n<a href=\"/pl/program/spotkania\">Spotkania</a>\\n</li>\\n<li>\\n<a href=\"/pl/program/edukacja\">Edukacja</a>\\n</li>\\n</ul>\\n</div>\\n</li>\\n<li>\\n<a href=\"/pl/teatr\">\\nTeatr\\n</a>\\n<div>\\n<ul>\\n<li>\\n<a href=\"/pl/teatr/miejsce\">Miejsce</a>\\n</li>\\n<li>\\n<a href=\"/pl/teatr/zespol\">Zespół</a>\\n</li>\\n<li>\\n<a href=\"/pl/teatr/historia\">Historia</a>\\n</li>\\n<li>\\n<a href=\"/pl/teatr/dzialania-spoleczne\">Działania społeczne</a>\\n</li>\\n<li>\\n<a href=\"/pl/teatr/zielony-zespol\">Zielony zespół</a>\\n</li>\\n<li>\\n<a href=\"/pl/teatr/patroni\">Patroni</a>\\n</li>\\n<li>\\n<a href=\"/pl/teatr/raporty-sezonowe\">Raporty sezonowe</a>\\n</li>\\n</ul>\\n</div>\\n</li>\\n<li>\\n<a href=\"/pl/bilety\">\\nBilety\\n</a>\\n</li>\\n<li>\\n<a href=\"https://vod.nowyteatr.org/\">\\nVOD\\n</a>\\n</li>\\n</ul>\\n\\n<div>\\n\\n<form action=\"/pl/szukaj\" method=\"GET\">\\n<input autocomplete=\"off\" name=\"q\" placeholder=\"Szukaj\" type=\"search\" value=\"\"/>\\n</form>\\n</div>\\n<div>\\n<ul>\\n<li>\\n<a href=\"/pl/aktualnosci\">Aktualności</a>\\n</li>\\n<li>\\n<a href=\"/pl/dla-prasy\">Dla prasy</a>\\n</li>\\n<li>\\n<a href=\"/pl/teatr-bez-barier\">Teatr bez barier</a>\\n</li>\\n<li>\\n<a href=\"/pl/polityka-prywatnosci\">Polityka prywatności</a>\\n</li>\\n<li>\\n<a href=\"/pl/bip\">BIP</a>\\n</li>\\n<li>\\n<a href=\"#\">Newsletter</a>\\n</li>\\n<li>\\n<a href=\"/pl/kontakt\">Kontakt</a>\\n</li>\\n<li>\\n<a href=\"https://huncwot.com\" rel=\"noopener noreferrer\" target=\"_blank\" title=\"Otwórz w nowym oknie\">Website by Huncwot.com</a>\\n</li>\\n</ul>\\n<ul>\\n<li><a href=\"/en/program?setlang=true\"><span>Zmień język</span>EN</a>\\n</li>\\n<li>\\n<a href=\"https://www.facebook.com/MCKNowyTeatr/\" rel=\"noopener noreferrer\" target=\"_blank\" title=\"facebook\"></a>\\n</li>\\n<li>\\n<a href=\"https://www.instagram.com/nowy_teatr/\" rel=\"noopener noreferrer\" target=\"_blank\" title=\"instagram\"></a>\\n</li>\\n<li>\\n<a href=\"https://www.youtube.com/user/NowyTeatr\" rel=\"noopener noreferrer\" target=\"_blank\" title=\"youtube\"></a>\\n</li>\\n</ul>\\n</div>\\n<button>\\n<span>Zamknij</span>\\n\\n</button>\\n</div>\\n<div data-gradient-options=\\'{\"image\": \"/public/upload/misc/jpg/5d1373855a1bf___1568930328.jpg\", \"shift\": 100}\\' data-options=\\'{\"toggleSelector\": \".js-toggle-filters\"}\\'>\\n\\n</div>\\n<div data-gradient-options=\\'{\"image\": \"/public/upload/misc/jpg/5d13739798412___1568930417.jpg\", \"shift\": 40, \"breakpoints\": [\"desktop\"]}\\' data-options=\\'{\"toggleSelector\": \".js-toggle-search\", \"position\": \"top\"}\\'>\\n<button>\\n<span>Zamknij</span>\\n\\n</button>\\n<form action=\"/pl/szukaj\" method=\"post\">\\n<label for=\"q\">Wpisz frazę</label>\\n<input autocomplete=\"off\" name=\"q\" placeholder=\"Wpisz frazę\" type=\"search\" value=\"\"/>\\n</form>\\n\\n</div>\\n<div data-gradient-options=\\'{\"image\": \"/public/upload/misc/jpg/5d13739798412___1568930417.jpg\", \"shift\": 40}\\' data-options=\\'{\"toggleSelector\": \".js-toggle-subscribe\", \"position\": \"bottom\"}\\'>\\n<button>\\n<span>Zamknij</span>\\n\\n</button>\\n<form action=\"/pl/api/newsletter_add\" data-options=\\'{\"response\": \"#newsletter-result\", \"type\": \"json\", \"reset\": false }\\' method=\"POST\">\\n<div>\\n<div>\\n\\n<label for=\"email\"><span>Twój e-mail</span></label>\\n<input autocomplete=\"email\" name=\"email\" placeholder=\"Twój e-mail\" type=\"email\">\\n<input name=\"token\" type=\"hidden\" value=\"\"/>\\n\\n<button aria-label=\"Zasubskrybuj\" type=\"submit\">\\n\\n</button>\\n</input></div>\\n<div>\\n\\n<input name=\"agree\" required=\"\" type=\"checkbox\"/>\\n<label for=\"newsletter_assent\"></label>\\n<p>\\nWyrażam zgodę na otrzymywanie newslettera zawierającego informacje handlowe dotyczące Nowego Teatru. <a href=\"/pl/polityka-prywatnosci\" target=\"_blank\">Więcej.</a>\\n<br/>Akceptuję treść regulaminu newsletterów <a href=\"/pl/regulamin\" target=\"_blank\">Więcej.</a>\\n</p>\\n</div>\\n</div>\\n\\n</form>\\n</div>\\n<div>\\n\\n</div>\\n\\n</body>'"
      ]
     },
     "execution_count": 14,
     "metadata": {},
     "output_type": "execute_result"
    }
   ],
   "source": [
    "content"
   ]
  },
  {
   "cell_type": "code",
   "execution_count": 13,
   "metadata": {},
   "outputs": [
    {
     "data": {
      "text/plain": [
       "'[]'"
      ]
     },
     "execution_count": 13,
     "metadata": {},
     "output_type": "execute_result"
    }
   ],
   "source": [
    "performances"
   ]
  },
  {
   "cell_type": "code",
   "execution_count": 15,
   "metadata": {},
   "outputs": [],
   "source": [
    "with open(f\"temp/nowyteatr.html\", \"w\") as file:\n",
    "    file.write(content)"
   ]
  },
  {
   "cell_type": "code",
   "execution_count": null,
   "metadata": {},
   "outputs": [
    {
     "name": "stdout",
     "output_type": "stream",
     "text": [
      "Parsing theatre wspolczesny, url https://www.wspolczesny.pl/\n"
     ]
    },
    {
     "name": "stderr",
     "output_type": "stream",
     "text": [
      "/Users/markogolovko/Projects/TeatrApka/venv/lib/python3.12/site-packages/urllib3/connectionpool.py:1097: InsecureRequestWarning: Unverified HTTPS request is being made to host 'www.wspolczesny.pl'. Adding certificate verification is strongly advised. See: https://urllib3.readthedocs.io/en/latest/advanced-usage.html#tls-warnings\n",
      "  warnings.warn(\n"
     ]
    },
    {
     "name": "stdout",
     "output_type": "stream",
     "text": [
      "Repertoire link https://www.wspolczesny.pl/repertuar/biezacy\n"
     ]
    },
    {
     "name": "stderr",
     "output_type": "stream",
     "text": [
      "/Users/markogolovko/Projects/TeatrApka/venv/lib/python3.12/site-packages/urllib3/connectionpool.py:1097: InsecureRequestWarning: Unverified HTTPS request is being made to host 'www.wspolczesny.pl'. Adding certificate verification is strongly advised. See: https://urllib3.readthedocs.io/en/latest/advanced-usage.html#tls-warnings\n",
      "  warnings.warn(\n"
     ]
    }
   ],
   "source": [
    "theatres = [\"https://teatrdramatyczny.pl/\", \"https://www.teatr2strefa.pl\", \"https://teatrstudio.pl\", \"https://teatrpolski.waw.pl/\", \"https://www.wspolczesny.pl/\"]\n",
    "theatres = [\"https://www.wspolczesny.pl/\"]\n",
    "\n",
    "for theatre_url in theatres:\n",
    "    theater_name = get_theatre_name(theatre_url)\n",
    "    print(f\"Parsing theatre {theater_name}, url {theatre_url}\")\n",
    "    content = clean_html_for_llm(theatre_url)\n",
    "    links = extract_links_from_page(content, theatre_url)\n",
    "    repertoire_links = get_repertoire_links(links, model)\n",
    "\n",
    "    if len(repertoire_links) > 0:\n",
    "        first_url = repertoire_links[0]\n",
    "        if first_url[\"confidence\"] >= 0.7:\n",
    "            url = first_url['url']\n",
    "        else:\n",
    "            url = theatre_url\n",
    "        print(f\"Repertoire link {url}\")\n",
    "        content = clean_html_for_llm(url)   \n",
    "        performances = parse_repertoires_from_page(content, client)\n",
    "        with open(f\"temp/{theater_name}.json\", \"w\") as file:\n",
    "            file.write(performances)\n"
   ]
  }
 ],
 "metadata": {
  "kernelspec": {
   "display_name": "venv",
   "language": "python",
   "name": "python3"
  },
  "language_info": {
   "codemirror_mode": {
    "name": "ipython",
    "version": 3
   },
   "file_extension": ".py",
   "mimetype": "text/x-python",
   "name": "python",
   "nbconvert_exporter": "python",
   "pygments_lexer": "ipython3",
   "version": "3.12.8"
  }
 },
 "nbformat": 4,
 "nbformat_minor": 2
}
