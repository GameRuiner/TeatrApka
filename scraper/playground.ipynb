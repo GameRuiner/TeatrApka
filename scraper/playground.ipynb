{
 "cells": [
  {
   "cell_type": "code",
   "execution_count": 6,
   "id": "113df899",
   "metadata": {},
   "outputs": [],
   "source": [
    "from agent import clean_html_for_llm_async, extract_pure_json\n",
    "from geminy_agent import parse_repertoires_from_page\n",
    "from google import genai\n",
    "import os\n",
    "from dotenv import load_dotenv\n",
    "import re\n",
    "import json\n",
    "\n",
    "load_dotenv();"
   ]
  },
  {
   "cell_type": "code",
   "execution_count": null,
   "id": "1bdb935b",
   "metadata": {},
   "outputs": [
    {
     "name": "stderr",
     "output_type": "stream",
     "text": [
      "/Users/markogolovko/Projects/TeatrApka/scraper/agent.py:13: RuntimeWarning: coroutine 'Page.wait_for_timeout' was never awaited\n",
      "  page.wait_for_timeout(5000)\n",
      "RuntimeWarning: Enable tracemalloc to get the object allocation traceback\n",
      "/Users/markogolovko/Projects/TeatrApka/scraper/agent.py:15: RuntimeWarning: coroutine 'Browser.close' was never awaited\n",
      "  browser.close()\n",
      "RuntimeWarning: Enable tracemalloc to get the object allocation traceback\n"
     ]
    }
   ],
   "source": [
    "url = \"https://teatrdramatyczny.pl/repertuar\"\n",
    "content = await clean_html_for_llm_async(url)"
   ]
  },
  {
   "cell_type": "code",
   "execution_count": 6,
   "id": "be9c74f2",
   "metadata": {},
   "outputs": [],
   "source": [
    "client = genai.Client(api_key=os.environ[\"GOOGLE_API_KEY\"])"
   ]
  },
  {
   "cell_type": "code",
   "execution_count": null,
   "id": "cb2329f2",
   "metadata": {},
   "outputs": [],
   "source": [
    "performances = parse_repertoires_from_page(content, client)"
   ]
  },
  {
   "cell_type": "code",
   "execution_count": 20,
   "id": "c9b8b960",
   "metadata": {},
   "outputs": [],
   "source": [
    "response = \"\"\"\n",
    "[{\n",
    "\"title\": \"PIOTRUŚ PAN\",\n",
    "\"date\": \"2024-12-06\"\n",
    "},\n",
    "{\n",
    "\"title\": \"KRUK Z TOWER\",\n",
    "\"date\": \"2024-12-07\"\n",
    "}]\n",
    "\"\"\"\n",
    "# response = \"\"\"\n",
    "# [{\n",
    "# \"title\": \"PIOTRUŚ PAN\",\n",
    "# \"date\": \"2024-12-06\",\n",
    "# \"start_time\": \"15:00\",\n",
    "# \"end_time\": null,\n",
    "# \"status\": null,\n",
    "# \"place\": \"Duża Scena PKiN, pl. Defilad 1\"\n",
    "# }]\n",
    "# \"\"\""
   ]
  },
  {
   "cell_type": "code",
   "execution_count": 21,
   "id": "5e6f0f13",
   "metadata": {},
   "outputs": [
    {
     "data": {
      "text/plain": [
       "[{'title': 'PIOTRUŚ PAN', 'date': '2024-12-06'},\n",
       " {'title': 'KRUK Z TOWER', 'date': '2024-12-07'}]"
      ]
     },
     "execution_count": 21,
     "metadata": {},
     "output_type": "execute_result"
    }
   ],
   "source": [
    "def extract_pure_json(text: str) -> list[dict]:\n",
    "    \"\"\"Extract JSON content from text that might be wrapped in markdown code blocks.\"\"\"\n",
    "    json_pattern = r\"```(?:json)?\\s*([\\s\\S]*?)```|```(?:json)?\\s*([\\s\\S]*)\"\n",
    "    match = re.search(json_pattern, text)\n",
    "    if match:\n",
    "        json_text = (match.group(1) or match.group(2)).strip()\n",
    "    else:\n",
    "        json_text = text.strip()\n",
    "    try:\n",
    "        return json.loads(json_text)\n",
    "    except json.JSONDecodeError as e:\n",
    "        print(f\"Initial JSONDecodeError: {e}. Attempting repair...\")\n",
    "    return _truncate_to_valid_array(json_text)\n",
    "\n",
    "\n",
    "def _truncate_to_valid_array(text: str) -> list[dict]:\n",
    "    \"\"\"Truncate a JSON array string to the last valid JSON object and close the array.\"\"\"\n",
    "    start = text.find('[')\n",
    "    if start == -1:\n",
    "        raise ValueError(\"No JSON array found.\")\n",
    "    array_body = text[start:]\n",
    "    repaired_objects = []\n",
    "    object_texts = re.split(r'},\\s*{', array_body[1:-1])\n",
    "    for obj in object_texts:\n",
    "        obj = obj.strip()\n",
    "        if not obj.startswith('{'):\n",
    "            obj = '{' + obj\n",
    "        if not obj.endswith('}'):\n",
    "            obj = obj + '}'\n",
    "        try:\n",
    "            parsed = json.loads(obj)\n",
    "            repaired_objects.append(parsed)\n",
    "        except json.JSONDecodeError:\n",
    "            break\n",
    "    return repaired_objects\n",
    "\n",
    "\n",
    "extract_pure_json(response)"
   ]
  },
  {
   "cell_type": "code",
   "execution_count": 11,
   "id": "c3f68e70",
   "metadata": {},
   "outputs": [
    {
     "data": {
      "text/plain": [
       "'[{\\n\"title\": \"PIOTRUŚ PAN\",\\n\"date\": \"2024-12-06\",\\n\"start_time\": \"15:00\",\\n\"end_time\": null,\\n\"status\": null,\\n\"place\": \"Duża Scena PKiN, pl. Defilad 1\"\\n},\\n{\\n\"title\": \"KRUK Z TOWER\",\\n\"date\": \"2024-12-07\",\\n\"start_time\": \"18:3'"
      ]
     },
     "execution_count": 11,
     "metadata": {},
     "output_type": "execute_result"
    }
   ],
   "source": [
    "response.strip()"
   ]
  }
 ],
 "metadata": {
  "kernelspec": {
   "display_name": "venv",
   "language": "python",
   "name": "python3"
  },
  "language_info": {
   "codemirror_mode": {
    "name": "ipython",
    "version": 3
   },
   "file_extension": ".py",
   "mimetype": "text/x-python",
   "name": "python",
   "nbconvert_exporter": "python",
   "pygments_lexer": "ipython3",
   "version": "3.12.8"
  }
 },
 "nbformat": 4,
 "nbformat_minor": 5
}
